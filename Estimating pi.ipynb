{
 "cells": [
  {
   "cell_type": "code",
   "execution_count": 1,
   "metadata": {},
   "outputs": [],
   "source": [
    "import numpy as np\n",
    "\n",
    "def generate_point(number):\n",
    "    \"\"\"\n",
    "    Generate required `number` of random points using uniform distribution\n",
    "    \"\"\"\n",
    "    return [(np.random.uniform(0,1),np.random.uniform(0,1)) for _ in range(number)]\n",
    "\n",
    "def distance(point):\n",
    "    \"\"\"\n",
    "    Return the calculate distance of points from (0,0) (origin)\n",
    "    \"\"\"\n",
    "    return np.linalg.norm([point[0],point[1]])\n",
    "\n",
    "def count(dist):\n",
    "    \"\"\"\n",
    "    return the number of points in 1st quadrant (inside circle)\n",
    "    \"\"\"\n",
    "    return np.sum(np.array(dist)<=1)\n",
    "\n",
    "def estimate_pi(num):\n",
    "    \"\"\"\n",
    "    the value of pi will be ~ 4*(points inside circle)/total number of points\n",
    "    \"\"\"\n",
    "    random_point = generate_point(num)\n",
    "\n",
    "    distances = [distance(point) for point in random_point]\n",
    "    \n",
    "    return (count(distances)/num)*4"
   ]
  },
  {
   "cell_type": "code",
   "execution_count": 2,
   "metadata": {},
   "outputs": [],
   "source": [
    "actual_value_of_pie_upto_10_digits = 3.1415926535"
   ]
  },
  {
   "cell_type": "markdown",
   "metadata": {},
   "source": [
    "### Experiment\n",
    "`Calculating the approximate value of pi using randomly generating \n",
    "[10, 100 , 1000, 10000, 100000, 1000000]\n",
    "points & calculating it's error percentage`"
   ]
  },
  {
   "cell_type": "code",
   "execution_count": 3,
   "metadata": {},
   "outputs": [],
   "source": [
    "random_points = [10, 100 , 1000, 10000, 100000, 1000000]\n",
    "pi_value = []\n",
    "for num_point in random_points:\n",
    "    pi_value.append(estimate_pi(num_point))"
   ]
  },
  {
   "cell_type": "code",
   "execution_count": 4,
   "metadata": {},
   "outputs": [
    {
     "data": {
      "text/plain": [
       "[2.4, 2.88, 3.032, 3.1404, 3.14352, 3.14076]"
      ]
     },
     "execution_count": 4,
     "metadata": {},
     "output_type": "execute_result"
    }
   ],
   "source": [
    "pi_value"
   ]
  },
  {
   "cell_type": "markdown",
   "metadata": {},
   "source": [
    "### Error | approximated - actual |*100/ actual "
   ]
  },
  {
   "cell_type": "code",
   "execution_count": 5,
   "metadata": {},
   "outputs": [],
   "source": [
    "error = [abs(val-actual_value_of_pie_upto_10_digits)*100/actual_value_of_pie_upto_10_digits for val in pi_value]"
   ]
  },
  {
   "cell_type": "code",
   "execution_count": 6,
   "metadata": {},
   "outputs": [
    {
     "data": {
      "text/plain": [
       "[23.605627313706734,\n",
       " 8.32675277644808,\n",
       " 3.4884425063161686,\n",
       " 0.037963339985254196,\n",
       " 0.061349344506927424,\n",
       " 0.026504184082305815]"
      ]
     },
     "execution_count": 6,
     "metadata": {},
     "output_type": "execute_result"
    }
   ],
   "source": [
    "error"
   ]
  },
  {
   "cell_type": "markdown",
   "metadata": {},
   "source": [
    "### With the increase in number of random points generated, our simulation is moving toward actual value of pi"
   ]
  }
 ],
 "metadata": {
  "kernelspec": {
   "display_name": "Python 3",
   "language": "python",
   "name": "python3"
  },
  "language_info": {
   "codemirror_mode": {
    "name": "ipython",
    "version": 3
   },
   "file_extension": ".py",
   "mimetype": "text/x-python",
   "name": "python",
   "nbconvert_exporter": "python",
   "pygments_lexer": "ipython3",
   "version": "3.7.4"
  }
 },
 "nbformat": 4,
 "nbformat_minor": 4
}
