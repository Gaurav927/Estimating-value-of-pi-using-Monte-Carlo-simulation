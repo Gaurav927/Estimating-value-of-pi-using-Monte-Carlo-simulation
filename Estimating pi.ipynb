{
 "cells": [
  {
   "cell_type": "code",
   "execution_count": 1,
   "metadata": {},
   "outputs": [],
   "source": [
    "import numpy as np\n",
    "\n",
    "def generate_point(number):\n",
    "    return [(np.random.uniform(0,1),np.random.uniform(0,1)) for _ in range(number)]\n",
    "\n",
    "def distance(point):\n",
    "    return np.linalg.norm([point[0],point[1]])\n",
    "\n",
    "def count(dist):\n",
    "    return np.sum(np.array(dist)<=1)\n",
    "\n",
    "def estimate_pi(num):\n",
    "    random_point = generate_point(num)\n",
    "\n",
    "    distances = [distance(point) for point in random_point]\n",
    "    \n",
    "    return (count(distances)/num)*4\n",
    "\n",
    "estimate_pi(1000000)"
   ]
  }
 ],
 "metadata": {
  "kernelspec": {
   "display_name": "Python 3",
   "language": "python",
   "name": "python3"
  },
  "language_info": {
   "codemirror_mode": {
    "name": "ipython",
    "version": 3
   },
   "file_extension": ".py",
   "mimetype": "text/x-python",
   "name": "python",
   "nbconvert_exporter": "python",
   "pygments_lexer": "ipython3",
   "version": "3.7.6"
  }
 },
 "nbformat": 4,
 "nbformat_minor": 4
}
